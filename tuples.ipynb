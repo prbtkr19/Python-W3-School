{
 "cells": [
  {
   "cell_type": "markdown",
   "id": "12d4e036",
   "metadata": {},
   "source": [
    "## Tuple\n",
    "Tuples are used to store multiple items in a single variable.\n",
    "\n",
    "Tuple is one of 4 built-in data types in Python used to store collections of data, the other 3 are List, Set, and Dictionary, all with different qualities and usage.\n",
    "\n",
    "A tuple is a collection which is ordered and unchangeable.\n",
    "\n",
    "Tuples are written with round brackets."
   ]
  },
  {
   "cell_type": "code",
   "execution_count": 1,
   "id": "62c68dd2",
   "metadata": {},
   "outputs": [
    {
     "name": "stdout",
     "output_type": "stream",
     "text": [
      "('apple', 'banana', 'cherry')\n"
     ]
    }
   ],
   "source": [
    "#Create a Tuple:\n",
    "\n",
    "thistuple = (\"apple\", \"banana\", \"cherry\")\n",
    "print(thistuple)"
   ]
  },
  {
   "cell_type": "markdown",
   "id": "0b899312",
   "metadata": {},
   "source": [
    "### Tuple Items\n",
    "Tuple items are ordered, unchangeable, and allow duplicate values.\n",
    "\n",
    "Tuple items are indexed, the first item has index [0], the second item has index [1] etc."
   ]
  },
  {
   "cell_type": "code",
   "execution_count": 2,
   "id": "ed089509",
   "metadata": {},
   "outputs": [
    {
     "name": "stdout",
     "output_type": "stream",
     "text": [
      "('apple', 'banana', 'cherry', 'apple', 'cherry')\n"
     ]
    }
   ],
   "source": [
    "# Ordered\n",
    "# When we say that tuples are ordered, it means that the items have a defined order, and that order will not change.\n",
    "\n",
    "# Unchangeable\n",
    "# Tuples are unchangeable, meaning that we cannot change, add or remove items after the tuple has been created.\n",
    "\n",
    "# Allow Duplicates\n",
    "# Since tuples are indexed, they can have items with the same value:\n",
    "thistuple = (\"apple\", \"banana\", \"cherry\", \"apple\", \"cherry\")\n",
    "print(thistuple)"
   ]
  },
  {
   "cell_type": "code",
   "execution_count": 3,
   "id": "250f6c33",
   "metadata": {},
   "outputs": [
    {
     "name": "stdout",
     "output_type": "stream",
     "text": [
      "5\n"
     ]
    }
   ],
   "source": [
    "#To determine how many items a tuple has, use the len() function:\n",
    "print(len(thistuple))"
   ]
  },
  {
   "cell_type": "code",
   "execution_count": 4,
   "id": "1455dd1f",
   "metadata": {},
   "outputs": [
    {
     "name": "stdout",
     "output_type": "stream",
     "text": [
      "<class 'tuple'>\n",
      "<class 'str'>\n"
     ]
    }
   ],
   "source": [
    "# Create Tuple With One Item\n",
    "# To create a tuple with only one item, you have to add a comma after the item, \n",
    "#otherwise Python will not recognize it as a tuple.\n",
    "thistuple = (\"apple\",)\n",
    "print(type(thistuple))\n",
    "\n",
    "#NOT a tuple\n",
    "thistuple = (\"apple\")\n",
    "print(type(thistuple))"
   ]
  },
  {
   "cell_type": "code",
   "execution_count": 5,
   "id": "57fcd19a",
   "metadata": {},
   "outputs": [],
   "source": [
    "# Tuple Items - Data Types\n",
    "# Tuple items can be of any data type:\n",
    "\n",
    "# Example\n",
    "# String, int and boolean data types:\n",
    "\n",
    "tuple1 = (\"apple\", \"banana\", \"cherry\")\n",
    "tuple2 = (1, 5, 7, 9, 3)\n",
    "tuple3 = (True, False, False)"
   ]
  },
  {
   "cell_type": "code",
   "execution_count": 6,
   "id": "ef72f84c",
   "metadata": {},
   "outputs": [],
   "source": [
    "tuple1 = (\"abc\", 34, True, 40, \"male\")"
   ]
  },
  {
   "cell_type": "code",
   "execution_count": 7,
   "id": "15feb6fe",
   "metadata": {},
   "outputs": [],
   "source": [
    "# Python Collections (Arrays)\n",
    "# There are four collection data types in the Python programming language:\n",
    "\n",
    "# List is a collection which is ordered and changeable. Allows duplicate members.\n",
    "# Tuple is a collection which is ordered and unchangeable. Allows duplicate members.\n",
    "# Set is a collection which is unordered, unchangeable*, and unindexed. No duplicate members.\n",
    "# Dictionary is a collection which is ordered** and changeable. No duplicate members.\n"
   ]
  },
  {
   "cell_type": "code",
   "execution_count": 8,
   "id": "e173a5d8",
   "metadata": {},
   "outputs": [
    {
     "name": "stdout",
     "output_type": "stream",
     "text": [
      "banana\n"
     ]
    }
   ],
   "source": [
    "#acces tuples items\n",
    "thistuple = (\"apple\", \"banana\", \"cherry\")\n",
    "print(thistuple[1])"
   ]
  },
  {
   "cell_type": "code",
   "execution_count": 9,
   "id": "73520b05",
   "metadata": {},
   "outputs": [
    {
     "name": "stdout",
     "output_type": "stream",
     "text": [
      "['apple', 'banana', 'cherry']\n",
      "('apple', 'banana', 'cherry')\n"
     ]
    }
   ],
   "source": [
    "#update tuples\n",
    "#Tuples are unchangeable, meaning that you cannot change, add, or remove items once the tuple is created.\n",
    "x = (\"apple\", \"banana\", \"cherry\")\n",
    "y = list(x)\n",
    "#y[1] = \"kiwi\"\n",
    "#x = tuple(y)\n",
    "print(y)\n",
    "print(x)\n"
   ]
  },
  {
   "cell_type": "code",
   "execution_count": 10,
   "id": "e883bea3",
   "metadata": {},
   "outputs": [
    {
     "name": "stdout",
     "output_type": "stream",
     "text": [
      "('apple', 'kiwi', 'cherry')\n"
     ]
    }
   ],
   "source": [
    "x = (\"apple\", \"banana\", \"cherry\")\n",
    "y = list(x)\n",
    "y[1] = \"kiwi\"\n",
    "x = tuple(y)\n",
    "print(x)"
   ]
  },
  {
   "cell_type": "code",
   "execution_count": 11,
   "id": "d372d070",
   "metadata": {},
   "outputs": [],
   "source": [
    "# Add Items\n",
    "# Since tuples are immutable, they do not have a build-in append() method, but there are other ways to add items to a tuple.\n",
    "\n",
    "# 1. Convert into a list: Just like the workaround for changing a tuple, you can convert it into a list, add your item(s), and convert it back into a tuple.\n",
    "\n",
    "# Example\n",
    "# Convert the tuple into a list, add \"orange\", and convert it back into a tuple:\n",
    "\n",
    "thistuple = (\"apple\", \"banana\", \"cherry\")\n",
    "y = list(thistuple)\n",
    "y.append(\"orange\")\n",
    "thistuple = tuple(y)\n"
   ]
  },
  {
   "cell_type": "code",
   "execution_count": 12,
   "id": "a5364e87",
   "metadata": {},
   "outputs": [
    {
     "data": {
      "text/plain": [
       "('apple', 'banana', 'cherry', 'orange')"
      ]
     },
     "execution_count": 12,
     "metadata": {},
     "output_type": "execute_result"
    }
   ],
   "source": [
    "thistuple"
   ]
  },
  {
   "cell_type": "code",
   "execution_count": 13,
   "id": "265eb114",
   "metadata": {},
   "outputs": [
    {
     "name": "stdout",
     "output_type": "stream",
     "text": [
      "('apple', 'banana', 'cherry', 'orange')\n"
     ]
    }
   ],
   "source": [
    "# 2. Add tuple to a tuple. You are allowed to add tuples to tuples, so if you want to add one item, (or many), create a new tuple with the item(s), and add it to the existing tuple:\n",
    "\n",
    "# Example\n",
    "# Create a new tuple with the value \"orange\", and add that tuple:\n",
    "\n",
    "thistuple = (\"apple\", \"banana\", \"cherry\")\n",
    "y = (\"orange\",)\n",
    "thistuple += y\n",
    "\n",
    "print(thistuple)"
   ]
  },
  {
   "cell_type": "code",
   "execution_count": 16,
   "id": "cbf870b0",
   "metadata": {},
   "outputs": [],
   "source": [
    "# Tuples are unchangeable, so you cannot remove items from it, but you can use the same workaround as we used for changing and adding tuple items:\n",
    "\n",
    "# Example\n",
    "# Convert the tuple into a list, remove \"apple\", and convert it back into a tuple:\n",
    "\n",
    "thistuple = (\"apple\", \"banana\", \"cherry\")\n",
    "y = list(thistuple)\n",
    "y.remove(\"apple\")\n",
    "thistuple = tuple(y)"
   ]
  },
  {
   "cell_type": "code",
   "execution_count": 17,
   "id": "194f722e",
   "metadata": {},
   "outputs": [
    {
     "ename": "NameError",
     "evalue": "name 'thistuple' is not defined",
     "output_type": "error",
     "traceback": [
      "\u001b[1;31m---------------------------------------------------------------------------\u001b[0m",
      "\u001b[1;31mNameError\u001b[0m                                 Traceback (most recent call last)",
      "\u001b[1;32m<ipython-input-17-810d1400d5b6>\u001b[0m in \u001b[0;36m<module>\u001b[1;34m\u001b[0m\n\u001b[0;32m      3\u001b[0m \u001b[0mthistuple\u001b[0m \u001b[1;33m=\u001b[0m \u001b[1;33m(\u001b[0m\u001b[1;34m\"apple\"\u001b[0m\u001b[1;33m,\u001b[0m \u001b[1;34m\"banana\"\u001b[0m\u001b[1;33m,\u001b[0m \u001b[1;34m\"cherry\"\u001b[0m\u001b[1;33m)\u001b[0m\u001b[1;33m\u001b[0m\u001b[1;33m\u001b[0m\u001b[0m\n\u001b[0;32m      4\u001b[0m \u001b[1;32mdel\u001b[0m \u001b[0mthistuple\u001b[0m\u001b[1;33m\u001b[0m\u001b[1;33m\u001b[0m\u001b[0m\n\u001b[1;32m----> 5\u001b[1;33m \u001b[0mprint\u001b[0m\u001b[1;33m(\u001b[0m\u001b[0mthistuple\u001b[0m\u001b[1;33m)\u001b[0m \u001b[1;31m#this will raise an error because the tuple no longer exis\u001b[0m\u001b[1;33m\u001b[0m\u001b[1;33m\u001b[0m\u001b[0m\n\u001b[0m",
      "\u001b[1;31mNameError\u001b[0m: name 'thistuple' is not defined"
     ]
    }
   ],
   "source": [
    "#The del keyword can delete the tuple completely:\n",
    "\n",
    "thistuple = (\"apple\", \"banana\", \"cherry\")\n",
    "del thistuple\n",
    "print(thistuple) #this will raise an error because the tuple no longer exis"
   ]
  },
  {
   "cell_type": "code",
   "execution_count": 18,
   "id": "afb8bac6",
   "metadata": {},
   "outputs": [],
   "source": [
    "# Unpacking a Tuple\n",
    "# When we create a tuple, we normally assign values to it. This is called \"packing\" a tuple:\n",
    "\n",
    "# Example\n",
    "# Packing a tuple:\n",
    "\n",
    "fruits = (\"apple\", \"banana\", \"cherry\")"
   ]
  },
  {
   "cell_type": "code",
   "execution_count": 19,
   "id": "601eadfc",
   "metadata": {},
   "outputs": [
    {
     "name": "stdout",
     "output_type": "stream",
     "text": [
      "apple\n",
      "banana\n",
      "cherry\n"
     ]
    }
   ],
   "source": [
    "#But, in Python, we are also allowed to extract the values back into variables. This is called \"unpacking\":\n",
    "\n",
    "#Unpacking a tuple:\n",
    "\n",
    "fruits = (\"apple\", \"banana\", \"cherry\")\n",
    "\n",
    "(green, yellow, red) = fruits\n",
    "\n",
    "print(green)\n",
    "print(yellow)\n",
    "print(red)"
   ]
  },
  {
   "cell_type": "code",
   "execution_count": 20,
   "id": "7f9337ef",
   "metadata": {},
   "outputs": [
    {
     "name": "stdout",
     "output_type": "stream",
     "text": [
      "apple\n",
      "banana\n",
      "['cherry', 'strawberry', 'raspberry']\n"
     ]
    }
   ],
   "source": [
    "# Note: The number of variables must match the number of values in the tuple, if not, you must use an asterisk to collect the remaining values as a list.\n",
    "\n",
    "# Using Asterisk*\n",
    "# If the number of variables is less than the number of values, you can add an * to the variable name and the values will be assigned to the variable as a list:\n",
    "\n",
    "# Example\n",
    "# Assign the rest of the values as a list called \"red\":\n",
    "\n",
    "fruits = (\"apple\", \"banana\", \"cherry\", \"strawberry\", \"raspberry\")\n",
    "\n",
    "(green, yellow, *red) = fruits\n",
    "\n",
    "print(green)\n",
    "print(yellow)\n",
    "print(red)"
   ]
  },
  {
   "cell_type": "code",
   "execution_count": 21,
   "id": "b2f8ff63",
   "metadata": {},
   "outputs": [
    {
     "name": "stdout",
     "output_type": "stream",
     "text": [
      "apple\n",
      "['mango', 'papaya', 'pineapple']\n",
      "cherry\n"
     ]
    }
   ],
   "source": [
    "# If the asterisk is added to another variable name than the last, Python will assign values to the variable until the number of values left matches the number of variables left.\n",
    "\n",
    "# Example\n",
    "# Add a list of values the \"tropic\" variable:\n",
    "\n",
    "fruits = (\"apple\", \"mango\", \"papaya\", \"pineapple\", \"cherry\")\n",
    "\n",
    "(green, *tropic, red) = fruits\n",
    "\n",
    "print(green)\n",
    "print(tropic)\n",
    "print(red)"
   ]
  },
  {
   "cell_type": "code",
   "execution_count": 23,
   "id": "6f95c6c4",
   "metadata": {},
   "outputs": [
    {
     "name": "stdout",
     "output_type": "stream",
     "text": [
      "apple\n",
      "banana\n",
      "cherry\n"
     ]
    }
   ],
   "source": [
    "# Loop Through a Tuple\n",
    "# You can loop through the tuple items by using a for loop.\n",
    "\n",
    "# Example\n",
    "#Iterate through the items and print the values:\n",
    "\n",
    "thistuple = (\"apple\", \"banana\", \"cherry\")\n",
    "for x in thistuple:\n",
    "  print(x)"
   ]
  },
  {
   "cell_type": "code",
   "execution_count": 24,
   "id": "ee7fbf50",
   "metadata": {},
   "outputs": [
    {
     "name": "stdout",
     "output_type": "stream",
     "text": [
      "apple\n",
      "banana\n",
      "cherry\n"
     ]
    }
   ],
   "source": [
    "# Loop Through the Index Numbers\n",
    "# You can also loop through the tuple items by referring to their index number.\n",
    "\n",
    "# Use the range() and len() functions to create a suitable iterable.\n",
    "\n",
    "# Example\n",
    "# Print all items by referring to their index number:\n",
    "\n",
    "thistuple = (\"apple\", \"banana\", \"cherry\")\n",
    "for i in range(len(thistuple)):\n",
    "  print(thistuple[i])"
   ]
  },
  {
   "cell_type": "code",
   "execution_count": 25,
   "id": "acb2daff",
   "metadata": {},
   "outputs": [
    {
     "name": "stdout",
     "output_type": "stream",
     "text": [
      "apple\n",
      "banana\n",
      "cherry\n"
     ]
    }
   ],
   "source": [
    "# Using a While Loop\n",
    "# You can loop through the list items by using a while loop.\n",
    "\n",
    "# Use the len() function to determine the length of the tuple, then start at 0 and loop your way through the tuple items by refering to their indexes.\n",
    "\n",
    "# Remember to increase the index by 1 after each iteration.\n",
    "\n",
    "# Example\n",
    "# Print all items, using a while loop to go through all the index numbers:\n",
    "\n",
    "thistuple = (\"apple\", \"banana\", \"cherry\")\n",
    "i = 0\n",
    "while i < len(thistuple):\n",
    "  print(thistuple[i])\n",
    "  i = i + 1"
   ]
  },
  {
   "cell_type": "code",
   "execution_count": 26,
   "id": "3b64c5a2",
   "metadata": {},
   "outputs": [
    {
     "name": "stdout",
     "output_type": "stream",
     "text": [
      "('a', 'b', 'c', 1, 2, 3)\n"
     ]
    }
   ],
   "source": [
    "# Join Two Tuples\n",
    "# To join two or more tuples you can use the + operator:\n",
    "\n",
    "# Example\n",
    "# Join two tuples:\n",
    "\n",
    "tuple1 = (\"a\", \"b\" , \"c\")\n",
    "tuple2 = (1, 2, 3)\n",
    "\n",
    "tuple3 = tuple1 + tuple2\n",
    "print(tuple3)"
   ]
  },
  {
   "cell_type": "code",
   "execution_count": null,
   "id": "bf335388",
   "metadata": {},
   "outputs": [],
   "source": []
  }
 ],
 "metadata": {
  "kernelspec": {
   "display_name": "Python 3",
   "language": "python",
   "name": "python3"
  },
  "language_info": {
   "codemirror_mode": {
    "name": "ipython",
    "version": 3
   },
   "file_extension": ".py",
   "mimetype": "text/x-python",
   "name": "python",
   "nbconvert_exporter": "python",
   "pygments_lexer": "ipython3",
   "version": "3.8.8"
  }
 },
 "nbformat": 4,
 "nbformat_minor": 5
}
