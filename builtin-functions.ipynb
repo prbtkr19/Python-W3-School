{
 "cells": [
  {
   "cell_type": "markdown",
   "id": "daa85e6f",
   "metadata": {},
   "source": [
    "## abs() Function"
   ]
  },
  {
   "cell_type": "code",
   "execution_count": 1,
   "id": "fe0fe84e",
   "metadata": {},
   "outputs": [
    {
     "data": {
      "text/plain": [
       "7.34"
      ]
     },
     "execution_count": 1,
     "metadata": {},
     "output_type": "execute_result"
    }
   ],
   "source": [
    "#returns absolute value of a number\n",
    "abs(7.34)"
   ]
  },
  {
   "cell_type": "markdown",
   "id": "c3b3d614",
   "metadata": {},
   "source": [
    "## all() Function"
   ]
  },
  {
   "cell_type": "markdown",
   "id": "93e444e7",
   "metadata": {},
   "source": [
    "## The all() function returns True if all items in an iterable are true, otherwise it returns False.\n",
    "\n",
    "If the iterable object is empty, the all() function also returns True.\n",
    "\n"
   ]
  },
  {
   "cell_type": "code",
   "execution_count": 2,
   "id": "9d62a3e2",
   "metadata": {},
   "outputs": [],
   "source": [
    "mylist = [True, True, True]\n",
    "x = all(mylist)"
   ]
  },
  {
   "cell_type": "markdown",
   "id": "912fa3d0",
   "metadata": {},
   "source": [
    "## String Methods"
   ]
  },
  {
   "cell_type": "markdown",
   "id": "e1d6e469",
   "metadata": {},
   "source": [
    "### count() Method"
   ]
  },
  {
   "cell_type": "markdown",
   "id": "beec3ebb",
   "metadata": {},
   "source": [
    "## The count() method returns the number of times a specified value appears in the string."
   ]
  },
  {
   "cell_type": "code",
   "execution_count": 1,
   "id": "fcbae0b5",
   "metadata": {},
   "outputs": [
    {
     "name": "stdout",
     "output_type": "stream",
     "text": [
      "2\n"
     ]
    }
   ],
   "source": [
    "txt = \"I love apples, apple are my favorite fruit\"\n",
    "\n",
    "x = txt.count(\"apple\")\n",
    "\n",
    "print(x)"
   ]
  },
  {
   "cell_type": "code",
   "execution_count": 2,
   "id": "7da7e529",
   "metadata": {},
   "outputs": [
    {
     "name": "stdout",
     "output_type": "stream",
     "text": [
      "7\n"
     ]
    }
   ],
   "source": [
    "#The find() method finds the first occurrence of the specified value.\n",
    "txt = \"Hello, welcome to my world.\"\n",
    "\n",
    "x = txt.find(\"welcome\")\n",
    "\n",
    "print(x)"
   ]
  },
  {
   "cell_type": "code",
   "execution_count": 3,
   "id": "a553f24c",
   "metadata": {},
   "outputs": [
    {
     "name": "stdout",
     "output_type": "stream",
     "text": [
      "For only 49.00 dollars!\n"
     ]
    }
   ],
   "source": [
    "# The format() method formats the specified value(s) and insert them inside the string's placeholder.\n",
    "# The placeholder is defined using curly brackets: {}. Read more about the placeholders in the Placeholder section below.\n",
    "# The format() method returns the formatted string.\n",
    "\n",
    "txt = \"For only {price:.2f} dollars!\"\n",
    "print(txt.format(price = 49))\n"
   ]
  },
  {
   "cell_type": "code",
   "execution_count": 4,
   "id": "12ec5e17",
   "metadata": {},
   "outputs": [
    {
     "name": "stdout",
     "output_type": "stream",
     "text": [
      "John#Peter#Vicky\n"
     ]
    }
   ],
   "source": [
    "#The join() method takes all items in an iterable and joins them into one string.\n",
    "myTuple = (\"John\", \"Peter\", \"Vicky\")\n",
    "\n",
    "x = \"#\".join(myTuple)\n",
    "\n",
    "print(x)\n"
   ]
  },
  {
   "cell_type": "code",
   "execution_count": 5,
   "id": "4b1feb38",
   "metadata": {},
   "outputs": [
    {
     "name": "stdout",
     "output_type": "stream",
     "text": [
      "['welcome', 'to', 'the', 'jungle']\n"
     ]
    }
   ],
   "source": [
    "#The split() method splits a string into a list.\n",
    "#You can specify the separator, default separator is any whitespace.\n",
    "txt = \"welcome to the jungle\"\n",
    "\n",
    "x = txt.split()\n",
    "\n",
    "print(x)"
   ]
  },
  {
   "cell_type": "markdown",
   "id": "fc3868e1",
   "metadata": {},
   "source": [
    "## List methods\n",
    "append()...............................................................Adds an element at the end of the list\n",
    "clear()\t...............................................................Removes all the elements from the list\n",
    "copy()\t...............................................................Returns a copy of the list\n",
    "count()\tReturns the number of elements with the specified value\n",
    "extend()\tAdd the elements of a list (or any iterable), to the end of the current list\n",
    "index()\tReturns the index of the first element with the specified value\n",
    "insert()\tAdds an element at the specified position\n",
    "pop()\tRemoves the element at the specified position\n",
    "remove()\tRemoves the first item with the specified value\n",
    "reverse()\tReverses the order of the list\n",
    "sort()\tSorts the list"
   ]
  },
  {
   "cell_type": "code",
   "execution_count": null,
   "id": "233c2ff5",
   "metadata": {},
   "outputs": [],
   "source": [
    "fruits = ['apple', 'banana', 'cherry']\n",
    "fruits.append(\"orange\")\n",
    "\n"
   ]
  },
  {
   "cell_type": "code",
   "execution_count": null,
   "id": "75f839a1",
   "metadata": {},
   "outputs": [],
   "source": [
    "fruits = ['apple', 'banana', 'cherry', 'orange']\n",
    "\n",
    "fruits.clear()\n"
   ]
  },
  {
   "cell_type": "code",
   "execution_count": null,
   "id": "ac4824c6",
   "metadata": {},
   "outputs": [],
   "source": [
    "fruits = ['apple', 'banana', 'cherry', 'orange']\n",
    "\n",
    "x = fruits.copy()"
   ]
  },
  {
   "cell_type": "code",
   "execution_count": null,
   "id": "a28fd4eb",
   "metadata": {},
   "outputs": [],
   "source": [
    "fruits = ['apple', 'banana', 'cherry']\n",
    "\n",
    "x = fruits.count(\"cherry\")"
   ]
  },
  {
   "cell_type": "markdown",
   "id": "69effae3",
   "metadata": {},
   "source": [
    "## Dictionary methods"
   ]
  },
  {
   "cell_type": "code",
   "execution_count": 6,
   "id": "4d184d59",
   "metadata": {},
   "outputs": [
    {
     "ename": "SyntaxError",
     "evalue": "invalid syntax (<ipython-input-6-f4786bbeaff8>, line 1)",
     "output_type": "error",
     "traceback": [
      "\u001b[1;36m  File \u001b[1;32m\"<ipython-input-6-f4786bbeaff8>\"\u001b[1;36m, line \u001b[1;32m1\u001b[0m\n\u001b[1;33m    Method\tDescription\u001b[0m\n\u001b[1;37m          \t^\u001b[0m\n\u001b[1;31mSyntaxError\u001b[0m\u001b[1;31m:\u001b[0m invalid syntax\n"
     ]
    }
   ],
   "source": [
    "Method\tDescription\n",
    "clear()\tRemoves all the elements from the dictionary\n",
    "copy()\tReturns a copy of the dictionary\n",
    "fromkeys()\tReturns a dictionary with the specified keys and value\n",
    "get()\tReturns the value of the specified key\n",
    "items()\tReturns a list containing a tuple for each key value pair\n",
    "keys()\tReturns a list containing the dictionary's keys\n",
    "pop()\tRemoves the element with the specified key\n",
    "popitem()\tRemoves the last inserted key-value pair\n",
    "setdefault()\tReturns the value of the specified key. If the key does not exist: insert the key, with the specified value\n",
    "update()\tUpdates the dictionary with the specified key-value pairs\n",
    "values()\tReturns a list of all the values in the dictionary"
   ]
  },
  {
   "cell_type": "code",
   "execution_count": 7,
   "id": "782a8a7e",
   "metadata": {},
   "outputs": [
    {
     "name": "stdout",
     "output_type": "stream",
     "text": [
      "{'brand': 'Ford', 'model': 'Mustang', 'year': 1964}\n"
     ]
    }
   ],
   "source": [
    "car = {\n",
    "  \"brand\": \"Ford\",\n",
    "  \"model\": \"Mustang\",\n",
    "  \"year\": 1964\n",
    "}\n",
    "\n",
    "x = car.copy()\n",
    "\n",
    "print(x)"
   ]
  },
  {
   "cell_type": "markdown",
   "id": "97f6df74",
   "metadata": {},
   "source": [
    "## Tuple methods"
   ]
  },
  {
   "cell_type": "code",
   "execution_count": null,
   "id": "c4bff683",
   "metadata": {},
   "outputs": [],
   "source": [
    "Method\tDescription\n",
    "count()\tReturns the number of times a specified value occurs in a tuple\n",
    "index()\tSearches the tuple for a specified value and returns the position of where it was found\n"
   ]
  },
  {
   "cell_type": "markdown",
   "id": "a3759dbe",
   "metadata": {},
   "source": [
    "## set methods"
   ]
  },
  {
   "cell_type": "code",
   "execution_count": null,
   "id": "5b0d277d",
   "metadata": {},
   "outputs": [],
   "source": [
    "Method\tDescription\n",
    "add()\tAdds an element to the set\n",
    "clear()\tRemoves all the elements from the set\n",
    "copy()\tReturns a copy of the set\n",
    "difference()\tReturns a set containing the difference between two or more sets\n",
    "difference_update()\tRemoves the items in this set that are also included in another, specified set\n",
    "discard()\tRemove the specified item\n",
    "intersection()\tReturns a set, that is the intersection of two or more sets\n",
    "intersection_update()\tRemoves the items in this set that are not present in other, specified set(s)\n",
    "isdisjoint()\tReturns whether two sets have a intersection or not\n",
    "issubset()\tReturns whether another set contains this set or not\n",
    "issuperset()\tReturns whether this set contains another set or not\n",
    "pop()\tRemoves an element from the set\n",
    "remove()\tRemoves the specified element\n",
    "symmetric_difference()\tReturns a set with the symmetric differences of two sets\n",
    "symmetric_difference_update()\tinserts the symmetric differences from this set and another\n",
    "union()\tReturn a set containing the union of sets\n",
    "update()\tUpdate the set with another set, or any other iterable"
   ]
  },
  {
   "cell_type": "code",
   "execution_count": 8,
   "id": "d84f9251",
   "metadata": {},
   "outputs": [
    {
     "name": "stdout",
     "output_type": "stream",
     "text": [
      "{'banana', 'apple', 'cherry', 'orange'}\n"
     ]
    }
   ],
   "source": [
    "fruits = {\"apple\", \"banana\", \"cherry\"}\n",
    "\n",
    "fruits.add(\"orange\")\n",
    "\n",
    "print(fruits)\n"
   ]
  },
  {
   "cell_type": "markdown",
   "id": "abf6df39",
   "metadata": {},
   "source": [
    "## File Methods\n"
   ]
  },
  {
   "cell_type": "code",
   "execution_count": null,
   "id": "80661620",
   "metadata": {},
   "outputs": [],
   "source": [
    "Method\tDescription\n",
    "close()\tCloses the file\n",
    "detach()\tReturns the separated raw stream from the buffer\n",
    "fileno()\tReturns a number that represents the stream, from the operating system's perspective\n",
    "flush()\tFlushes the internal buffer\n",
    "isatty()\tReturns whether the file stream is interactive or not\n",
    "read()\tReturns the file content\n",
    "readable()\tReturns whether the file stream can be read or not\n",
    "readline()\tReturns one line from the file\n",
    "readlines()\tReturns a list of lines from the file\n",
    "seek()\tChange the file position\n",
    "seekable()\tReturns whether the file allows us to change the file position\n",
    "tell()\tReturns the current file position\n",
    "truncate()\tResizes the file to a specified size\n",
    "writable()\tReturns whether the file can be written to or not\n",
    "write()\tWrites the specified string to the file\n",
    "writelines()\tWrites a list of strings to the file"
   ]
  },
  {
   "cell_type": "code",
   "execution_count": 9,
   "id": "1c2c48ce",
   "metadata": {},
   "outputs": [
    {
     "ename": "FileNotFoundError",
     "evalue": "[Errno 2] No such file or directory: 'demofile.txt'",
     "output_type": "error",
     "traceback": [
      "\u001b[1;31m---------------------------------------------------------------------------\u001b[0m",
      "\u001b[1;31mFileNotFoundError\u001b[0m                         Traceback (most recent call last)",
      "\u001b[1;32m<ipython-input-9-8e10e9288fa3>\u001b[0m in \u001b[0;36m<module>\u001b[1;34m\u001b[0m\n\u001b[1;32m----> 1\u001b[1;33m \u001b[0mf\u001b[0m \u001b[1;33m=\u001b[0m \u001b[0mopen\u001b[0m\u001b[1;33m(\u001b[0m\u001b[1;34m\"demofile.txt\"\u001b[0m\u001b[1;33m,\u001b[0m \u001b[1;34m\"r\"\u001b[0m\u001b[1;33m)\u001b[0m\u001b[1;33m\u001b[0m\u001b[1;33m\u001b[0m\u001b[0m\n\u001b[0m\u001b[0;32m      2\u001b[0m \u001b[0mprint\u001b[0m\u001b[1;33m(\u001b[0m\u001b[0mf\u001b[0m\u001b[1;33m.\u001b[0m\u001b[0mread\u001b[0m\u001b[1;33m(\u001b[0m\u001b[1;33m)\u001b[0m\u001b[1;33m)\u001b[0m\u001b[1;33m\u001b[0m\u001b[1;33m\u001b[0m\u001b[0m\n\u001b[0;32m      3\u001b[0m \u001b[0mf\u001b[0m\u001b[1;33m.\u001b[0m\u001b[0mclose\u001b[0m\u001b[1;33m(\u001b[0m\u001b[1;33m)\u001b[0m\u001b[1;33m\u001b[0m\u001b[1;33m\u001b[0m\u001b[0m\n",
      "\u001b[1;31mFileNotFoundError\u001b[0m: [Errno 2] No such file or directory: 'demofile.txt'"
     ]
    }
   ],
   "source": [
    "f = open(\"demofile.txt\", \"r\")\n",
    "print(f.read())\n",
    "f.close()"
   ]
  },
  {
   "cell_type": "code",
   "execution_count": 10,
   "id": "63cbedc0",
   "metadata": {},
   "outputs": [
    {
     "data": {
      "text/plain": [
       "19"
      ]
     },
     "execution_count": 10,
     "metadata": {},
     "output_type": "execute_result"
    }
   ],
   "source": [
    "f = open(\"myfile.txt\", \"a\")\n",
    "f.write(\"Now the file has one more line!\")\n",
    "f.flush()\n",
    "f.write(\"...and another one!\")"
   ]
  },
  {
   "cell_type": "code",
   "execution_count": 11,
   "id": "d2eddc6a",
   "metadata": {},
   "outputs": [
    {
     "name": "stdout",
     "output_type": "stream",
     "text": [
      "\u0000\u0000\u0000\u0000\u0000\u0000\u0000\u0000\u0000\u0000\u0000\u0000\u0000\u0000\u0000\u0000\u0000\u0000\u0000\u0000\n"
     ]
    }
   ],
   "source": [
    "f = open(\"demofile2.txt\", \"a\")\n",
    "f.truncate(20)\n",
    "f.close()\n",
    "\n",
    "#open and read the file after the truncate:\n",
    "f = open(\"demofile2.txt\", \"r\")\n",
    "print(f.read())"
   ]
  },
  {
   "cell_type": "code",
   "execution_count": 12,
   "id": "7fd9d4af",
   "metadata": {},
   "outputs": [
    {
     "name": "stdout",
     "output_type": "stream",
     "text": [
      "\u0000\u0000\u0000\u0000\u0000\u0000\u0000\u0000\u0000\u0000\u0000\u0000\u0000\u0000\u0000\u0000\u0000\u0000\u0000\u0000See you soon!\n"
     ]
    }
   ],
   "source": [
    "# The write() method writes a specified text to the file.\n",
    "\n",
    "# Where the specified text will be inserted depends on the file mode and stream position.\n",
    "\n",
    "# \"a\":  The text will be inserted at the current file stream position, default at the end of the file.\n",
    "\n",
    "# \"w\": The file will be emptied before the text will be inserted at the current file stream position, default 0.\n",
    "\n",
    "\n",
    "f = open(\"demofile2.txt\", \"a\")\n",
    "f.write(\"See you soon!\")\n",
    "f.close()\n",
    "\n",
    "#open and read the file after the appending:\n",
    "f = open(\"demofile2.txt\", \"r\")\n",
    "print(f.read())"
   ]
  },
  {
   "cell_type": "markdown",
   "id": "7fb318bb",
   "metadata": {},
   "source": [
    "## Python Keywords"
   ]
  },
  {
   "cell_type": "code",
   "execution_count": null,
   "id": "5e87fcb9",
   "metadata": {},
   "outputs": [],
   "source": [
    "Keyword\tDescription\n",
    "and\tA logical operator\n",
    "as\tTo create an alias\n",
    "assert\tFor debugging\n",
    "break\tTo break out of a loop\n",
    "class\tTo define a class\n",
    "continue\tTo continue to the next iteration of a loop\n",
    "def\tTo define a function\n",
    "del\tTo delete an object\n",
    "elif\tUsed in conditional statements, same as else if\n",
    "else\tUsed in conditional statements\n",
    "except\tUsed with exceptions, what to do when an exception occurs\n",
    "False\tBoolean value, result of comparison operations\n",
    "finally\tUsed with exceptions, a block of code that will be executed no matter if there is an exception or not\n",
    "for\tTo create a for loop\n",
    "from\tTo import specific parts of a module\n",
    "global\tTo declare a global variable\n",
    "if\tTo make a conditional statement\n",
    "import\tTo import a module\n",
    "in\tTo check if a value is present in a list, tuple, etc.\n",
    "is\tTo test if two variables are equal\n",
    "lambda\tTo create an anonymous function\n",
    "None\tRepresents a null value\n",
    "nonlocal\tTo declare a non-local variable\n",
    "not\tA logical operator\n",
    "or\tA logical operator\n",
    "pass\tA null statement, a statement that will do nothing\n",
    "raise\tTo raise an exception\n",
    "return\tTo exit a function and return a value\n",
    "True\tBoolean value, result of comparison operations\n",
    "try\tTo make a try...except statement\n",
    "while\tTo create a while loop\n",
    "with\tUsed to simplify exception handling\n",
    "yield\tTo end a function, returns a generator\n",
    "\n",
    "\n",
    "NEW\n"
   ]
  },
  {
   "cell_type": "markdown",
   "id": "00ac4f4e",
   "metadata": {},
   "source": [
    "## Python Built-in Exceptions"
   ]
  },
  {
   "cell_type": "code",
   "execution_count": null,
   "id": "d87096cf",
   "metadata": {},
   "outputs": [],
   "source": [
    "Exception\tDescription\n",
    "ArithmeticError\tRaised when an error occurs in numeric calculations\n",
    "AssertionError\tRaised when an assert statement fails\n",
    "AttributeError\tRaised when attribute reference or assignment fails\n",
    "Exception\tBase class for all exceptions\n",
    "EOFError\tRaised when the input() method hits an \"end of file\" condition (EOF)\n",
    "FloatingPointError\tRaised when a floating point calculation fails\n",
    "GeneratorExit\tRaised when a generator is closed (with the close() method)\n",
    "ImportError\tRaised when an imported module does not exist\n",
    "IndentationError\tRaised when indendation is not correct\n",
    "IndexError\tRaised when an index of a sequence does not exist\n",
    "KeyError\tRaised when a key does not exist in a dictionary\n",
    "KeyboardInterrupt\tRaised when the user presses Ctrl+c, Ctrl+z or Delete\n",
    "LookupError\tRaised when errors raised cant be found\n",
    "MemoryError\tRaised when a program runs out of memory\n",
    "NameError\tRaised when a variable does not exist\n",
    "NotImplementedError\tRaised when an abstract method requires an inherited class to override the method\n",
    "OSError\tRaised when a system related operation causes an error\n",
    "OverflowError\tRaised when the result of a numeric calculation is too large\n",
    "ReferenceError\tRaised when a weak reference object does not exist\n",
    "RuntimeError\tRaised when an error occurs that do not belong to any specific expections\n",
    "StopIteration\tRaised when the next() method of an iterator has no further values\n",
    "SyntaxError\tRaised when a syntax error occurs\n",
    "TabError\tRaised when indentation consists of tabs or spaces\n",
    "SystemError\tRaised when a system error occurs\n",
    "SystemExit\tRaised when the sys.exit() function is called\n",
    "TypeError\tRaised when two different types are combined\n",
    "UnboundLocalError\tRaised when a local variable is referenced before assignment\n",
    "UnicodeError\tRaised when a unicode problem occurs\n",
    "UnicodeEncodeError\tRaised when a unicode encoding problem occurs\n",
    "UnicodeDecodeError\tRaised when a unicode decoding problem occurs\n",
    "UnicodeTranslateError\tRaised when a unicode translation problem occurs\n",
    "ValueError\tRaised when there is a wrong value in a specified data type\n",
    "ZeroDivisionError\tRaised when the second operator in a division is zero\n",
    "\n"
   ]
  },
  {
   "cell_type": "code",
   "execution_count": null,
   "id": "e86b8544",
   "metadata": {},
   "outputs": [],
   "source": [
    "Built-in Exceptions\n",
    "The table below shows built-in exceptions that are usually raised in Python:\n",
    "\n",
    "Exception\tDescription\n",
    "ArithmeticError\tRaised when an error occurs in numeric calculations\n",
    "AssertionError\tRaised when an assert statement fails\n",
    "AttributeError\tRaised when attribute reference or assignment fails\n",
    "Exception\tBase class for all exceptions\n",
    "EOFError\tRaised when the input() method hits an \"end of file\" condition (EOF)\n",
    "FloatingPointError\tRaised when a floating point calculation fails\n",
    "GeneratorExit\tRaised when a generator is closed (with the close() method)\n",
    "ImportError\tRaised when an imported module does not exist\n",
    "IndentationError\tRaised when indendation is not correct\n",
    "IndexError\tRaised when an index of a sequence does not exist\n",
    "KeyError\tRaised when a key does not exist in a dictionary\n",
    "KeyboardInterrupt\tRaised when the user presses Ctrl+c, Ctrl+z or Delete\n",
    "LookupError\tRaised when errors raised cant be found\n",
    "MemoryError\tRaised when a program runs out of memory\n",
    "NameError\tRaised when a variable does not exist\n",
    "NotImplementedError\tRaised when an abstract method requires an inherited class to override the method\n",
    "OSError\tRaised when a system related operation causes an error\n",
    "OverflowError\tRaised when the result of a numeric calculation is too large\n",
    "ReferenceError\tRaised when a weak reference object does not exist\n",
    "RuntimeError\tRaised when an error occurs that do not belong to any specific expections\n",
    "StopIteration\tRaised when the next() method of an iterator has no further values\n",
    "SyntaxError\tRaised when a syntax error occurs\n",
    "TabError\tRaised when indentation consists of tabs or spaces\n",
    "SystemError\tRaised when a system error occurs\n",
    "SystemExit\tRaised when the sys.exit() function is called\n",
    "TypeError\tRaised when two different types are combined\n",
    "UnboundLocalError\tRaised when a local variable is referenced before assignment\n",
    "UnicodeError\tRaised when a unicode problem occurs\n",
    "UnicodeEncodeError\tRaised when a unicode encoding problem occurs\n",
    "UnicodeDecodeError\tRaised when a unicode decoding problem occurs\n",
    "UnicodeTranslateError\tRaised when a unicode translation problem occurs\n",
    "ValueError\tRaised when there is a wrong value in a specified data type\n",
    "ZeroDivisionError\tRaised when the second operator in a division is zero\n"
   ]
  }
 ],
 "metadata": {
  "kernelspec": {
   "display_name": "Python 3",
   "language": "python",
   "name": "python3"
  },
  "language_info": {
   "codemirror_mode": {
    "name": "ipython",
    "version": 3
   },
   "file_extension": ".py",
   "mimetype": "text/x-python",
   "name": "python",
   "nbconvert_exporter": "python",
   "pygments_lexer": "ipython3",
   "version": "3.8.8"
  }
 },
 "nbformat": 4,
 "nbformat_minor": 5
}
