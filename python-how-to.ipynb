{
 "cells": [
  {
   "cell_type": "markdown",
   "id": "3f0e8521",
   "metadata": {},
   "source": [
    "## How to Remove Duplicates From a Python List\n"
   ]
  },
  {
   "cell_type": "code",
   "execution_count": 6,
   "id": "dafe6b16",
   "metadata": {},
   "outputs": [
    {
     "name": "stdout",
     "output_type": "stream",
     "text": [
      "{'a': None, 'b': None, 'c': None}\n"
     ]
    }
   ],
   "source": [
    "mylist = [\"a\", \"b\", \"a\", \"c\", \"c\"]\n",
    "mylist = dict.fromkeys(mylist)\n",
    "print(mylist)"
   ]
  },
  {
   "cell_type": "code",
   "execution_count": 7,
   "id": "7481f9df",
   "metadata": {},
   "outputs": [],
   "source": [
    "mylist = list(dict.fromkeys(mylist))"
   ]
  },
  {
   "cell_type": "code",
   "execution_count": 8,
   "id": "e8bdb1ab",
   "metadata": {},
   "outputs": [
    {
     "data": {
      "text/plain": [
       "['a', 'b', 'c']"
      ]
     },
     "execution_count": 8,
     "metadata": {},
     "output_type": "execute_result"
    }
   ],
   "source": [
    "mylist"
   ]
  },
  {
   "cell_type": "markdown",
   "id": "36a517f3",
   "metadata": {},
   "source": [
    "## explanation of asbove example\n",
    "Create a dictionary, using the List items as keys. \n",
    "This will automatically remove any duplicates because dictionaries cannot have duplicate keys.\n",
    "then convert agaqin into list"
   ]
  },
  {
   "cell_type": "markdown",
   "id": "fd9dff3e",
   "metadata": {},
   "source": [
    "### using set we can also remove duplicates from a llist\n"
   ]
  },
  {
   "cell_type": "code",
   "execution_count": 2,
   "id": "23746a36",
   "metadata": {},
   "outputs": [],
   "source": [
    "mylist1 = set(mylist)"
   ]
  },
  {
   "cell_type": "code",
   "execution_count": 3,
   "id": "4a0a4e7d",
   "metadata": {},
   "outputs": [
    {
     "data": {
      "text/plain": [
       "{'a', 'b', 'c'}"
      ]
     },
     "execution_count": 3,
     "metadata": {},
     "output_type": "execute_result"
    }
   ],
   "source": [
    "mylist1"
   ]
  },
  {
   "cell_type": "code",
   "execution_count": 4,
   "id": "b5ea506a",
   "metadata": {},
   "outputs": [],
   "source": [
    "#convert tuple into alist\n",
    "mylist2 = list(mylist1)"
   ]
  },
  {
   "cell_type": "code",
   "execution_count": 5,
   "id": "e3309795",
   "metadata": {},
   "outputs": [
    {
     "data": {
      "text/plain": [
       "['a', 'c', 'b']"
      ]
     },
     "execution_count": 5,
     "metadata": {},
     "output_type": "execute_result"
    }
   ],
   "source": [
    "mylist2"
   ]
  },
  {
   "cell_type": "markdown",
   "id": "15a377c2",
   "metadata": {},
   "source": [
    "## Create a Function\n",
    "If you like to have a function where you can send your lists, and get them back without duplicates, you can create a function and insert the code from the example above."
   ]
  },
  {
   "cell_type": "code",
   "execution_count": 9,
   "id": "d0161a5c",
   "metadata": {},
   "outputs": [
    {
     "name": "stdout",
     "output_type": "stream",
     "text": [
      "['a', 'b', 'c']\n"
     ]
    }
   ],
   "source": [
    "def my_function(x):\n",
    "  return list(dict.fromkeys(x))\n",
    "\n",
    "mylist = my_function([\"a\", \"b\", \"a\", \"c\", \"c\"])\n",
    "\n",
    "print(mylist)"
   ]
  },
  {
   "cell_type": "markdown",
   "id": "9e6dd54c",
   "metadata": {},
   "source": [
    "## Reverse a String in Python\n"
   ]
  },
  {
   "cell_type": "code",
   "execution_count": 10,
   "id": "6be3e38d",
   "metadata": {},
   "outputs": [
    {
     "name": "stdout",
     "output_type": "stream",
     "text": [
      "dlroW olleH\n"
     ]
    }
   ],
   "source": [
    "#Reverse the string \"Hello World\":\n",
    "\n",
    "txt = \"Hello World\"[::-1]\n",
    "print(txt)"
   ]
  },
  {
   "cell_type": "code",
   "execution_count": 11,
   "id": "90e3261c",
   "metadata": {},
   "outputs": [],
   "source": [
    "txt1 =  \"be aware of dogs\"\n",
    "rev_txt = txt1[::-1]"
   ]
  },
  {
   "cell_type": "code",
   "execution_count": 12,
   "id": "22718b08",
   "metadata": {},
   "outputs": [
    {
     "data": {
      "text/plain": [
       "'sgod fo erawa eb'"
      ]
     },
     "execution_count": 12,
     "metadata": {},
     "output_type": "execute_result"
    }
   ],
   "source": [
    "rev_txt"
   ]
  },
  {
   "cell_type": "markdown",
   "id": "dd0c1202",
   "metadata": {},
   "source": [
    "### In this particular example, the slice statement [::-1] means start at the end of the string and end at position 0, move with the step -1, negative one, which means one step backwards."
   ]
  },
  {
   "cell_type": "code",
   "execution_count": 13,
   "id": "8175f44d",
   "metadata": {},
   "outputs": [],
   "source": [
    "rev_txt2 = txt1[::-2]"
   ]
  },
  {
   "cell_type": "code",
   "execution_count": 14,
   "id": "ddde7dc1",
   "metadata": {},
   "outputs": [
    {
     "data": {
      "text/plain": [
       "'so oeaae'"
      ]
     },
     "execution_count": 14,
     "metadata": {},
     "output_type": "execute_result"
    }
   ],
   "source": [
    "rev_txt2"
   ]
  },
  {
   "cell_type": "markdown",
   "id": "7fd1a247",
   "metadata": {},
   "source": [
    "## sum two numbers"
   ]
  },
  {
   "cell_type": "code",
   "execution_count": 15,
   "id": "3b0cb13b",
   "metadata": {},
   "outputs": [
    {
     "name": "stdout",
     "output_type": "stream",
     "text": [
      "Type a number: 23\n",
      "Type another number: 23\n",
      "The sum is:  46\n"
     ]
    }
   ],
   "source": [
    "x = input(\"Type a number: \")\n",
    "y = input(\"Type another number: \")\n",
    "\n",
    "sum = int(x) + int(y)\n",
    "\n",
    "print(\"The sum is: \", sum)\n"
   ]
  },
  {
   "cell_type": "code",
   "execution_count": null,
   "id": "3963ecf1",
   "metadata": {},
   "outputs": [],
   "source": []
  }
 ],
 "metadata": {
  "kernelspec": {
   "display_name": "Python 3",
   "language": "python",
   "name": "python3"
  },
  "language_info": {
   "codemirror_mode": {
    "name": "ipython",
    "version": 3
   },
   "file_extension": ".py",
   "mimetype": "text/x-python",
   "name": "python",
   "nbconvert_exporter": "python",
   "pygments_lexer": "ipython3",
   "version": "3.8.8"
  }
 },
 "nbformat": 4,
 "nbformat_minor": 5
}
