{
 "cells": [
  {
   "cell_type": "code",
   "execution_count": null,
   "id": "1f1c5c23",
   "metadata": {},
   "outputs": [],
   "source": [
    "#Python 3.6 uses the input() method.\n",
    "\n",
    "#Python 2.7 uses the raw_input() method.\n",
    "username"
   ]
  }
 ],
 "metadata": {
  "kernelspec": {
   "display_name": "Python 3",
   "language": "python",
   "name": "python3"
  },
  "language_info": {
   "codemirror_mode": {
    "name": "ipython",
    "version": 3
   },
   "file_extension": ".py",
   "mimetype": "text/x-python",
   "name": "python",
   "nbconvert_exporter": "python",
   "pygments_lexer": "ipython3",
   "version": "3.8.8"
  }
 },
 "nbformat": 4,
 "nbformat_minor": 5
}
