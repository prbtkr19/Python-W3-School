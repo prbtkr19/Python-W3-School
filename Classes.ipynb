{
 "cells": [
  {
   "cell_type": "markdown",
   "id": "fec6043f",
   "metadata": {},
   "source": [
    "## Almost everything in Python is an object, with its properties and methods.\n",
    "\n",
    "A Class is like an object constructor, or a \"blueprint\" for creating objects."
   ]
  },
  {
   "cell_type": "code",
   "execution_count": 1,
   "id": "87013407",
   "metadata": {},
   "outputs": [],
   "source": [
    "class MyClass:\n",
    "  x = 5"
   ]
  },
  {
   "cell_type": "code",
   "execution_count": 3,
   "id": "186971f1",
   "metadata": {},
   "outputs": [
    {
     "name": "stdout",
     "output_type": "stream",
     "text": [
      "5\n"
     ]
    }
   ],
   "source": [
    "#Now we can use the class named MyClass to create objects:\n",
    "p1 = MyClass()\n",
    "print(p1.x)"
   ]
  },
  {
   "cell_type": "code",
   "execution_count": 4,
   "id": "d2ac0d8f",
   "metadata": {},
   "outputs": [],
   "source": [
    "# The __init__() Function\n",
    "# The examples above are classes and objects in their simplest form, and are not really useful in real life applications.\n",
    "# To understand the meaning of classes we have to understand the built-in __init__() function.\n",
    "# All classes have a function called __init__(), which is always executed when the class is being initiated.\n",
    "# Use the __init__() function to assign values to object properties,\n",
    "#or other operations that are necessary to do when the object is being created:\n",
    "\n",
    "#Create a class named Person, use the __init__() function to assign values for name and age:\n",
    "class Person():\n",
    "    def __init__(self,name,age):\n",
    "        self.name = name\n",
    "        self.age = age\n",
    "p2 = Person(\"prabhat\",26)\n"
   ]
  },
  {
   "cell_type": "code",
   "execution_count": 6,
   "id": "d9595269",
   "metadata": {},
   "outputs": [
    {
     "name": "stdout",
     "output_type": "stream",
     "text": [
      "prabhat\n"
     ]
    }
   ],
   "source": [
    "print(p2.name)"
   ]
  },
  {
   "cell_type": "markdown",
   "id": "5851a8d4",
   "metadata": {},
   "source": [
    "### Note: The __init__() function is called automatically every time the class is being used to create a new object.\n",
    "\n"
   ]
  },
  {
   "cell_type": "markdown",
   "id": "a1e0f9c2",
   "metadata": {},
   "source": [
    "## Object Methods\n",
    "Objects can also contain methods. Methods in objects are functions that belong to the object.\n",
    "\n",
    "Let us create a method in the Person class:"
   ]
  },
  {
   "cell_type": "code",
   "execution_count": 9,
   "id": "2ff4dc60",
   "metadata": {},
   "outputs": [
    {
     "name": "stdout",
     "output_type": "stream",
     "text": [
      "Hello my name is John\n"
     ]
    }
   ],
   "source": [
    "#Insert a function that prints a greeting, and execute it on the p1 object:\n",
    "\n",
    "class Person:\n",
    "    \n",
    "      def __init__(self, name, age):\n",
    "        self.name = name\n",
    "        self.age = age\n",
    "\n",
    "      def myfunc(self):\n",
    "        print(\"Hello my name is \" + self.name)\n",
    "\n",
    "p1 = Person(\"John\", 36)\n",
    "p1.myfunc()"
   ]
  },
  {
   "cell_type": "code",
   "execution_count": 10,
   "id": "3a1441ad",
   "metadata": {},
   "outputs": [
    {
     "ename": "TypeError",
     "evalue": "myfunc() takes 0 positional arguments but 1 was given",
     "output_type": "error",
     "traceback": [
      "\u001b[1;31m---------------------------------------------------------------------------\u001b[0m",
      "\u001b[1;31mTypeError\u001b[0m                                 Traceback (most recent call last)",
      "\u001b[1;32m<ipython-input-10-d0550ddcc2a1>\u001b[0m in \u001b[0;36m<module>\u001b[1;34m\u001b[0m\n\u001b[0;32m     10\u001b[0m \u001b[1;33m\u001b[0m\u001b[0m\n\u001b[0;32m     11\u001b[0m \u001b[0mp1\u001b[0m \u001b[1;33m=\u001b[0m \u001b[0mPerson\u001b[0m\u001b[1;33m(\u001b[0m\u001b[1;34m\"John\"\u001b[0m\u001b[1;33m,\u001b[0m \u001b[1;36m36\u001b[0m\u001b[1;33m)\u001b[0m\u001b[1;33m\u001b[0m\u001b[1;33m\u001b[0m\u001b[0m\n\u001b[1;32m---> 12\u001b[1;33m \u001b[0mp1\u001b[0m\u001b[1;33m.\u001b[0m\u001b[0mmyfunc\u001b[0m\u001b[1;33m(\u001b[0m\u001b[1;33m)\u001b[0m\u001b[1;33m\u001b[0m\u001b[1;33m\u001b[0m\u001b[0m\n\u001b[0m",
      "\u001b[1;31mTypeError\u001b[0m: myfunc() takes 0 positional arguments but 1 was given"
     ]
    }
   ],
   "source": [
    "#without self\n",
    "class Person:\n",
    "    \n",
    "      def __init__(self, name, age):\n",
    "        self.name = name\n",
    "        self.age = age\n",
    "\n",
    "      def myfunc():\n",
    "        print(\"Hello my name is \" + self.name)\n",
    "\n",
    "p1 = Person(\"John\", 36)\n",
    "p1.myfunc()"
   ]
  },
  {
   "cell_type": "markdown",
   "id": "f5af7f6a",
   "metadata": {},
   "source": [
    "## Note: The self parameter is a reference to the current instance of the class, and is used to access variables that belong to the class.\n",
    "\n"
   ]
  },
  {
   "cell_type": "markdown",
   "id": "c014bc34",
   "metadata": {},
   "source": [
    "### It does not have to be named self , you can call it whatever you like, but it has to be the first parameter of any function in the class:\n",
    "\n"
   ]
  },
  {
   "cell_type": "code",
   "execution_count": 15,
   "id": "51c67cdc",
   "metadata": {},
   "outputs": [
    {
     "name": "stdout",
     "output_type": "stream",
     "text": [
      "hello my name is:prabhat\n"
     ]
    }
   ],
   "source": [
    "class Person():\n",
    "    def __init__(xyz,name,age):\n",
    "        xyz.name = name\n",
    "        xyz.age = age\n",
    "    def fun(abc):\n",
    "        print(\"hello my name is:\"+ abc.name)\n",
    "p3 = Person(\"prabhat\",25)\n",
    "p3.fun()"
   ]
  },
  {
   "cell_type": "code",
   "execution_count": 14,
   "id": "9845474b",
   "metadata": {},
   "outputs": [
    {
     "name": "stdout",
     "output_type": "stream",
     "text": [
      "Hello my name is John\n"
     ]
    }
   ],
   "source": [
    "class Person:\n",
    "  def __init__(mysillyobject, name, age):\n",
    "    mysillyobject.name = name\n",
    "    mysillyobject.age = age\n",
    "\n",
    "  def myfunc(abc):\n",
    "    print(\"Hello my name is \" + abc.name)\n",
    "\n",
    "p1 = Person(\"John\", 36)\n",
    "p1.myfunc()"
   ]
  },
  {
   "cell_type": "code",
   "execution_count": 16,
   "id": "fc9d6bbb",
   "metadata": {},
   "outputs": [],
   "source": [
    "# Modify Object Properties\n",
    "# You can modify properties on objects like this:\n",
    "\n",
    "# Example\n",
    "# Set the age of p1 to 40:\n",
    "\n",
    "p1.age = 40"
   ]
  },
  {
   "cell_type": "code",
   "execution_count": 17,
   "id": "70a9a002",
   "metadata": {},
   "outputs": [
    {
     "name": "stdout",
     "output_type": "stream",
     "text": [
      "Hello my name is John\n"
     ]
    }
   ],
   "source": [
    "p1.myfunc()"
   ]
  },
  {
   "cell_type": "code",
   "execution_count": 18,
   "id": "6b159a78",
   "metadata": {},
   "outputs": [
    {
     "name": "stdout",
     "output_type": "stream",
     "text": [
      "40\n"
     ]
    }
   ],
   "source": [
    "class Person:\n",
    "  def __init__(self, name, age):\n",
    "    self.name = name\n",
    "    self.age = age\n",
    "\n",
    "  def myfunc(self):\n",
    "    print(\"Hello my name is \" + self.name)\n",
    "\n",
    "p1 = Person(\"John\", 36)\n",
    "\n",
    "p1.age = 40\n",
    "\n",
    "print(p1.age)\n"
   ]
  },
  {
   "cell_type": "code",
   "execution_count": 19,
   "id": "7ecaa361",
   "metadata": {},
   "outputs": [
    {
     "ename": "AttributeError",
     "evalue": "'Person' object has no attribute 'age'",
     "output_type": "error",
     "traceback": [
      "\u001b[1;31m---------------------------------------------------------------------------\u001b[0m",
      "\u001b[1;31mAttributeError\u001b[0m                            Traceback (most recent call last)",
      "\u001b[1;32m<ipython-input-19-48bbb7eeea24>\u001b[0m in \u001b[0;36m<module>\u001b[1;34m\u001b[0m\n\u001b[0;32m     13\u001b[0m \u001b[1;32mdel\u001b[0m \u001b[0mp1\u001b[0m\u001b[1;33m.\u001b[0m\u001b[0mage\u001b[0m\u001b[1;33m\u001b[0m\u001b[1;33m\u001b[0m\u001b[0m\n\u001b[0;32m     14\u001b[0m \u001b[1;33m\u001b[0m\u001b[0m\n\u001b[1;32m---> 15\u001b[1;33m \u001b[0mprint\u001b[0m\u001b[1;33m(\u001b[0m\u001b[0mp1\u001b[0m\u001b[1;33m.\u001b[0m\u001b[0mage\u001b[0m\u001b[1;33m)\u001b[0m\u001b[1;33m\u001b[0m\u001b[1;33m\u001b[0m\u001b[0m\n\u001b[0m",
      "\u001b[1;31mAttributeError\u001b[0m: 'Person' object has no attribute 'age'"
     ]
    }
   ],
   "source": [
    "#Delete Object Properties\n",
    "#You can delete properties on objects by using the del keyword:\n",
    "class Person:\n",
    "  def __init__(self, name, age):\n",
    "    self.name = name\n",
    "    self.age = age\n",
    "\n",
    "  def myfunc(self):\n",
    "    print(\"Hello my name is \" + self.name)\n",
    "\n",
    "p1 = Person(\"John\", 36)\n",
    "\n",
    "del p1.age\n",
    "\n",
    "print(p1.age)"
   ]
  },
  {
   "cell_type": "code",
   "execution_count": 20,
   "id": "c77a48b1",
   "metadata": {},
   "outputs": [
    {
     "ename": "NameError",
     "evalue": "name 'p1' is not defined",
     "output_type": "error",
     "traceback": [
      "\u001b[1;31m---------------------------------------------------------------------------\u001b[0m",
      "\u001b[1;31mNameError\u001b[0m                                 Traceback (most recent call last)",
      "\u001b[1;32m<ipython-input-20-3e03da50e3f9>\u001b[0m in \u001b[0;36m<module>\u001b[1;34m\u001b[0m\n\u001b[0;32m     12\u001b[0m \u001b[1;32mdel\u001b[0m \u001b[0mp1\u001b[0m\u001b[1;33m\u001b[0m\u001b[1;33m\u001b[0m\u001b[0m\n\u001b[0;32m     13\u001b[0m \u001b[1;33m\u001b[0m\u001b[0m\n\u001b[1;32m---> 14\u001b[1;33m \u001b[0mprint\u001b[0m\u001b[1;33m(\u001b[0m\u001b[0mp1\u001b[0m\u001b[1;33m)\u001b[0m\u001b[1;33m\u001b[0m\u001b[1;33m\u001b[0m\u001b[0m\n\u001b[0m",
      "\u001b[1;31mNameError\u001b[0m: name 'p1' is not defined"
     ]
    }
   ],
   "source": [
    "#del objct by using del keyword\n",
    "class Person:\n",
    "  def __init__(self, name, age):\n",
    "    self.name = name\n",
    "    self.age = age\n",
    "\n",
    "  def myfunc(self):\n",
    "    print(\"Hello my name is \" + self.name)\n",
    "\n",
    "p1 = Person(\"John\", 36)\n",
    "\n",
    "del p1\n",
    "\n",
    "print(p1)"
   ]
  },
  {
   "cell_type": "markdown",
   "id": "ee4ebcb3",
   "metadata": {},
   "source": [
    "# The pass Statement\n",
    "class definitions cannot be empty, but if you for some reason have a class definition with no content, put in the pass statement to avoid getting an error."
   ]
  },
  {
   "cell_type": "code",
   "execution_count": 21,
   "id": "de5252f1",
   "metadata": {},
   "outputs": [],
   "source": [
    "class Person:\n",
    "  pass"
   ]
  },
  {
   "cell_type": "markdown",
   "id": "0fa4a228",
   "metadata": {},
   "source": [
    "# Python Inheritance\n",
    "Inheritance allows us to define a class that inherits all the methods and properties from another class.\n",
    "\n",
    "Parent class is the class being inherited from, also called base class.\n",
    "\n",
    "Child class is the class that inherits from another class, also called derived class.\n",
    "\n"
   ]
  },
  {
   "cell_type": "code",
   "execution_count": 22,
   "id": "88ee6f47",
   "metadata": {},
   "outputs": [
    {
     "ename": "TypeError",
     "evalue": "Person() takes 0 positional arguments but 2 were given",
     "output_type": "error",
     "traceback": [
      "\u001b[1;31m---------------------------------------------------------------------------\u001b[0m",
      "\u001b[1;31mTypeError\u001b[0m                                 Traceback (most recent call last)",
      "\u001b[1;32m<ipython-input-22-d2c074ff5042>\u001b[0m in \u001b[0;36m<module>\u001b[1;34m\u001b[0m\n\u001b[0;32m      5\u001b[0m     \u001b[1;32mdef\u001b[0m \u001b[0mprint\u001b[0m\u001b[1;33m(\u001b[0m\u001b[0mself\u001b[0m\u001b[1;33m)\u001b[0m\u001b[1;33m:\u001b[0m\u001b[1;33m\u001b[0m\u001b[1;33m\u001b[0m\u001b[0m\n\u001b[0;32m      6\u001b[0m         \u001b[0mprint\u001b[0m\u001b[1;33m(\u001b[0m\u001b[0mself\u001b[0m\u001b[1;33m.\u001b[0m\u001b[0mfirstname\u001b[0m\u001b[1;33m,\u001b[0m \u001b[0mself\u001b[0m\u001b[1;33m.\u001b[0m\u001b[0mlastname\u001b[0m\u001b[1;33m)\u001b[0m\u001b[1;33m\u001b[0m\u001b[1;33m\u001b[0m\u001b[0m\n\u001b[1;32m----> 7\u001b[1;33m \u001b[0mper\u001b[0m\u001b[1;33m=\u001b[0m\u001b[0mPerson\u001b[0m\u001b[1;33m(\u001b[0m\u001b[1;34m\"prabhat\"\u001b[0m\u001b[1;33m,\u001b[0m\u001b[1;34m\"kumar\"\u001b[0m\u001b[1;33m)\u001b[0m\u001b[1;33m\u001b[0m\u001b[1;33m\u001b[0m\u001b[0m\n\u001b[0m\u001b[0;32m      8\u001b[0m \u001b[0mper\u001b[0m\u001b[1;33m.\u001b[0m\u001b[0mprint\u001b[0m\u001b[1;33m(\u001b[0m\u001b[1;33m)\u001b[0m\u001b[1;33m\u001b[0m\u001b[1;33m\u001b[0m\u001b[0m\n",
      "\u001b[1;31mTypeError\u001b[0m: Person() takes 0 positional arguments but 2 were given"
     ]
    }
   ],
   "source": [
    "def Person():\n",
    "    def __init__(self,firstname,lastname):\n",
    "        self.firstname = firstname\n",
    "        self.lastname = lastname\n",
    "    def print(self):\n",
    "        print(self.firstname, self.lastname)\n",
    "per=Person(\"prabhat\",\"kumar\")\n",
    "per.print()"
   ]
  },
  {
   "cell_type": "code",
   "execution_count": 1,
   "id": "deb92e6d",
   "metadata": {},
   "outputs": [
    {
     "name": "stdout",
     "output_type": "stream",
     "text": [
      "John Doe\n"
     ]
    }
   ],
   "source": [
    "#Create a class named Person, with firstname and lastname properties, and a printname method:\n",
    "\n",
    "\n",
    "class Person:\n",
    "  def __init__(self, fname, lname):\n",
    "    self.firstname = fname\n",
    "    self.lastname = lname\n",
    "\n",
    "  def printname(self):\n",
    "    print(self.firstname, self.lastname)\n",
    "\n",
    "#Use the Person class to create an object, and then execute the printname method:\n",
    "\n",
    "x = Person(\"John\", \"Doe\")\n",
    "x.printname()"
   ]
  },
  {
   "cell_type": "code",
   "execution_count": 2,
   "id": "2460f287",
   "metadata": {},
   "outputs": [],
   "source": [
    "# Create a Child Class\n",
    "# To create a class that inherits the functionality from another class,\n",
    "#send the parent class as a parameter when creating the child class:\n",
    "#Create a class named Student, which will inherit the properties and methods from the Person class:\n",
    "\n",
    "class Student(Person):\n",
    "  pass"
   ]
  },
  {
   "cell_type": "code",
   "execution_count": 3,
   "id": "eef3fc6c",
   "metadata": {},
   "outputs": [
    {
     "name": "stdout",
     "output_type": "stream",
     "text": [
      "Mike Olsen\n"
     ]
    }
   ],
   "source": [
    "#Use the Student class to create an object, and then execute the printname method:\n",
    "\n",
    "x1 = Student(\"Mike\", \"Olsen\")\n",
    "x1.printname()"
   ]
  },
  {
   "cell_type": "markdown",
   "id": "8879e67b",
   "metadata": {},
   "source": [
    "# Add the __init__() Function\n",
    "So far we have created a child class that inherits the properties and methods from its parent.\n",
    "We want to add the __init__() function to the child class (instead of the pass keyword).\n",
    "Note: The __init__() function is called automatically every time the class is being used to create a new object."
   ]
  },
  {
   "cell_type": "code",
   "execution_count": null,
   "id": "0e455ec8",
   "metadata": {},
   "outputs": [],
   "source": [
    "class Student():\n",
    "    def __init__(self,fname,lname):\n",
    "#When you add the __init__() function, the child class will no longer inherit the parent's __init__() function.\n",
    "\n",
    "\n",
    "\n",
    "\n"
   ]
  },
  {
   "cell_type": "code",
   "execution_count": 4,
   "id": "7eeba1fb",
   "metadata": {},
   "outputs": [],
   "source": [
    "#To keep the inheritance of the parent's __init__() function, add a call to the parent's __init__() function:\n",
    "class Student(Person):\n",
    "  def __init__(self, fname, lname):\n",
    "    Person.__init__(self, fname, lname)"
   ]
  },
  {
   "cell_type": "markdown",
   "id": "7fd16841",
   "metadata": {},
   "source": [
    "# Use the super() Function\n",
    "Python also has a super() function that will make the child class inherit all the methods and properties from its parent:"
   ]
  },
  {
   "cell_type": "code",
   "execution_count": 5,
   "id": "c3031f31",
   "metadata": {},
   "outputs": [],
   "source": [
    "class Student(Person):\n",
    "  def __init__(self, fname, lname):\n",
    "    super().__init__(fname, lname)\n",
    "#By using the super() function, you do not have to use the name of the parent element, \n",
    "#it will automatically inherit the methods and properties from its parent"
   ]
  },
  {
   "cell_type": "code",
   "execution_count": 6,
   "id": "93a19f38",
   "metadata": {},
   "outputs": [],
   "source": [
    "#Add a property called graduationyear to the Student class:\n",
    "\n",
    "class Student(Person):\n",
    "  def __init__(self, fname, lname):\n",
    "    super().__init__(fname, lname)\n",
    "    self.graduationyear = 2019\n"
   ]
  },
  {
   "cell_type": "code",
   "execution_count": 7,
   "id": "3703a230",
   "metadata": {},
   "outputs": [],
   "source": [
    "#In the example below, the year 2019 should be a variable, and passed into the Student class when creating student objects.\n",
    "#To do so, add another parameter in the __init__() function:\n",
    "\n",
    "#Example\n",
    "#Add a year parameter, and pass the correct year when creating objects:\n",
    "\n",
    "class Student(Person):\n",
    "  def __init__(self, fname, lname, year):\n",
    "    super().__init__(fname, lname)\n",
    "    self.graduationyear = year\n",
    "\n",
    "x = Student(\"Mike\", \"Olsen\", 2019)"
   ]
  },
  {
   "cell_type": "code",
   "execution_count": 8,
   "id": "c3fde2d9",
   "metadata": {},
   "outputs": [
    {
     "name": "stdout",
     "output_type": "stream",
     "text": [
      "<__main__.Student object at 0x000001BC9D144EB0>\n"
     ]
    }
   ],
   "source": [
    "print(x)"
   ]
  },
  {
   "cell_type": "code",
   "execution_count": 9,
   "id": "15745e76",
   "metadata": {},
   "outputs": [],
   "source": [
    "#Add a method called welcome to the Student class:\n",
    "\n",
    "class Student(Person):\n",
    "  def __init__(self, fname, lname, year):\n",
    "    super().__init__(fname, lname)\n",
    "    self.graduationyear = year\n",
    "\n",
    "  def welcome(self):\n",
    "    print(\"Welcome\", self.firstname, self.lastname, \"to the class of\", self.graduationyear)"
   ]
  },
  {
   "cell_type": "code",
   "execution_count": 10,
   "id": "ef7b7ff7",
   "metadata": {},
   "outputs": [
    {
     "name": "stdout",
     "output_type": "stream",
     "text": [
      "Welcome Mike Olsen to the class of 2019\n"
     ]
    }
   ],
   "source": [
    "x = Student(\"Mike\", \"Olsen\", 2019)\n",
    "x.welcome()"
   ]
  },
  {
   "cell_type": "code",
   "execution_count": null,
   "id": "8a53f21a",
   "metadata": {},
   "outputs": [],
   "source": []
  }
 ],
 "metadata": {
  "kernelspec": {
   "display_name": "Python 3",
   "language": "python",
   "name": "python3"
  },
  "language_info": {
   "codemirror_mode": {
    "name": "ipython",
    "version": 3
   },
   "file_extension": ".py",
   "mimetype": "text/x-python",
   "name": "python",
   "nbconvert_exporter": "python",
   "pygments_lexer": "ipython3",
   "version": "3.8.8"
  }
 },
 "nbformat": 4,
 "nbformat_minor": 5
}
