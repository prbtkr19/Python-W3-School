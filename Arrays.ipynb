{
 "cells": [
  {
   "cell_type": "markdown",
   "id": "27996cd9",
   "metadata": {},
   "source": [
    "# Note: Python does not have built-in support for Arrays, but Python Lists can be used instead.\n",
    "\n"
   ]
  },
  {
   "cell_type": "markdown",
   "id": "b2d34e7b",
   "metadata": {},
   "source": [
    "## Note: This page shows you how to use LISTS as ARRAYS, however, to work with arrays in Python you will have to import a library, like the NumPy library."
   ]
  },
  {
   "cell_type": "code",
   "execution_count": 1,
   "id": "241f46b1",
   "metadata": {},
   "outputs": [],
   "source": [
    "#Create an array containing car names:\n",
    "\n",
    "cars = [\"Ford\", \"Volvo\", \"BMW\"]"
   ]
  },
  {
   "cell_type": "code",
   "execution_count": 2,
   "id": "6d408152",
   "metadata": {},
   "outputs": [
    {
     "name": "stdout",
     "output_type": "stream",
     "text": [
      "Ford\n"
     ]
    }
   ],
   "source": [
    "#An array is a special variable, which can hold more than one value at a time.\n",
    "#Access the Elements of an Array\n",
    "cars = [\"Ford\", \"Volvo\", \"BMW\"]\n",
    "\n",
    "x = cars[0]\n",
    "\n",
    "print(x)\n"
   ]
  },
  {
   "cell_type": "code",
   "execution_count": 3,
   "id": "0a963a99",
   "metadata": {},
   "outputs": [
    {
     "name": "stdout",
     "output_type": "stream",
     "text": [
      "Ford\n",
      "Volvo\n",
      "BMW\n"
     ]
    }
   ],
   "source": [
    "# Looping Array Elements\n",
    "# You can use the for in loop to loop through all the elements of an array.\n",
    "\n",
    "# Example\n",
    "# Print each item in the cars array:\n",
    "\n",
    "for x in cars:\n",
    "  print(x)"
   ]
  },
  {
   "cell_type": "code",
   "execution_count": 4,
   "id": "2c4817d8",
   "metadata": {},
   "outputs": [],
   "source": [
    "#you can use the append() method to add an element to an array.\n",
    "cars.append(\"Honda\")"
   ]
  },
  {
   "cell_type": "code",
   "execution_count": 5,
   "id": "1a531a01",
   "metadata": {},
   "outputs": [
    {
     "data": {
      "text/plain": [
       "['Ford', 'Volvo', 'BMW', 'Honda']"
      ]
     },
     "execution_count": 5,
     "metadata": {},
     "output_type": "execute_result"
    }
   ],
   "source": [
    "cars"
   ]
  },
  {
   "cell_type": "code",
   "execution_count": 6,
   "id": "ba4eeb2d",
   "metadata": {},
   "outputs": [
    {
     "data": {
      "text/plain": [
       "'Volvo'"
      ]
     },
     "execution_count": 6,
     "metadata": {},
     "output_type": "execute_result"
    }
   ],
   "source": [
    "# You can use the pop() method to remove an element from the array.\n",
    "\n",
    "# Example\n",
    "# Delete the second element of the cars array:\n",
    "\n",
    "cars.pop(1)"
   ]
  },
  {
   "cell_type": "code",
   "execution_count": 9,
   "id": "13743d06",
   "metadata": {},
   "outputs": [],
   "source": [
    "# You can also use the remove() method to remove an element from the array.\n",
    "\n",
    "# Example\n",
    "# Delete the element that has the value \"Volvo\":\n",
    "\n",
    "cars.remove(\"Ford\")"
   ]
  },
  {
   "cell_type": "code",
   "execution_count": 10,
   "id": "32145a04",
   "metadata": {},
   "outputs": [
    {
     "data": {
      "text/plain": [
       "['BMW', 'Honda']"
      ]
     },
     "execution_count": 10,
     "metadata": {},
     "output_type": "execute_result"
    }
   ],
   "source": [
    "cars\n"
   ]
  },
  {
   "cell_type": "markdown",
   "id": "79b16b58",
   "metadata": {},
   "source": [
    "# Note: The list's remove() method only removes the first occurrence of the specified value.\n",
    "\n"
   ]
  },
  {
   "cell_type": "code",
   "execution_count": null,
   "id": "cee68b3e",
   "metadata": {},
   "outputs": [],
   "source": []
  }
 ],
 "metadata": {
  "kernelspec": {
   "display_name": "Python 3",
   "language": "python",
   "name": "python3"
  },
  "language_info": {
   "codemirror_mode": {
    "name": "ipython",
    "version": 3
   },
   "file_extension": ".py",
   "mimetype": "text/x-python",
   "name": "python",
   "nbconvert_exporter": "python",
   "pygments_lexer": "ipython3",
   "version": "3.8.8"
  }
 },
 "nbformat": 4,
 "nbformat_minor": 5
}
