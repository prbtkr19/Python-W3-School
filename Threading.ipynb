{
 "cells": [
  {
   "cell_type": "markdown",
   "id": "b181dd2e",
   "metadata": {},
   "source": [
    "## Create and start a thread\n",
    "RELATED\n",
    "Create and start a Timer thread with arguments\n",
    "\n",
    "Create and start a thread with arguments\n",
    "\n"
   ]
  },
  {
   "cell_type": "code",
   "execution_count": 4,
   "id": "96f407b2",
   "metadata": {},
   "outputs": [
    {
     "name": "stdout",
     "output_type": "stream",
     "text": [
      "hello\n",
      "hello prabhat\n"
     ]
    }
   ],
   "source": [
    "import threading\n",
    "def a():\n",
    "    print(\"hello\")\n",
    "def b():\n",
    "    print(\"hello prabhat\")\n",
    "threading.Thread(target=a).start()\n",
    "threading.Thread(target=b).start()\n"
   ]
  },
  {
   "cell_type": "markdown",
   "id": "e81e23f4",
   "metadata": {},
   "source": [
    "## create and starta thread with arguments\n"
   ]
  },
  {
   "cell_type": "code",
   "execution_count": 1,
   "id": "a4883132",
   "metadata": {},
   "outputs": [
    {
     "ename": "SyntaxError",
     "evalue": "Missing parentheses in call to 'print'. Did you mean print(s1, s2)? (<ipython-input-1-ffd52ad9e5ba>, line 4)",
     "output_type": "error",
     "traceback": [
      "\u001b[1;36m  File \u001b[1;32m\"<ipython-input-1-ffd52ad9e5ba>\"\u001b[1;36m, line \u001b[1;32m4\u001b[0m\n\u001b[1;33m    print s1, s2\u001b[0m\n\u001b[1;37m          ^\u001b[0m\n\u001b[1;31mSyntaxError\u001b[0m\u001b[1;31m:\u001b[0m Missing parentheses in call to 'print'. Did you mean print(s1, s2)?\n"
     ]
    }
   ],
   "source": [
    "import threading\n",
    "\n",
    "def f(s1, s2):\n",
    "    print s1, s2\n",
    "\n",
    "t = threading.Timer(1.0, f, (\"abc\", \"def\"))\n",
    "t.start()\n"
   ]
  },
  {
   "cell_type": "code",
   "execution_count": null,
   "id": "73385611",
   "metadata": {},
   "outputs": [],
   "source": []
  }
 ],
 "metadata": {
  "kernelspec": {
   "display_name": "Python 3",
   "language": "python",
   "name": "python3"
  },
  "language_info": {
   "codemirror_mode": {
    "name": "ipython",
    "version": 3
   },
   "file_extension": ".py",
   "mimetype": "text/x-python",
   "name": "python",
   "nbconvert_exporter": "python",
   "pygments_lexer": "ipython3",
   "version": "3.8.8"
  }
 },
 "nbformat": 4,
 "nbformat_minor": 5
}
