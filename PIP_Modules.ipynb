{
 "cells": [
  {
   "cell_type": "markdown",
   "id": "769557fa",
   "metadata": {},
   "source": [
    "## PIP is a package manager for Python packages, or modules if you like.\n",
    "\n",
    "Note: If you have Python version 3.4 or later, PIP is included by default.\n",
    "A module is a single file (or files) that are imported under one import and used.\n",
    "e.g. A package is a collection of modules in directories that give a package hierarchy."
   ]
  },
  {
   "cell_type": "code",
   "execution_count": 1,
   "id": "05c9db55",
   "metadata": {},
   "outputs": [],
   "source": [
    "#A package contains all the files you need for a module.\n",
    "#Modules are Python code libraries you can include in your project."
   ]
  },
  {
   "cell_type": "code",
   "execution_count": null,
   "id": "6dfb9ac6",
   "metadata": {},
   "outputs": [],
   "source": []
  }
 ],
 "metadata": {
  "kernelspec": {
   "display_name": "Python 3",
   "language": "python",
   "name": "python3"
  },
  "language_info": {
   "codemirror_mode": {
    "name": "ipython",
    "version": 3
   },
   "file_extension": ".py",
   "mimetype": "text/x-python",
   "name": "python",
   "nbconvert_exporter": "python",
   "pygments_lexer": "ipython3",
   "version": "3.8.8"
  }
 },
 "nbformat": 4,
 "nbformat_minor": 5
}
